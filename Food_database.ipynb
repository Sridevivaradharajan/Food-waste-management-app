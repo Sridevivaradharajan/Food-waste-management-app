{
 "cells": [
  {
   "cell_type": "code",
   "execution_count": 64,
   "id": "b6f7700a",
   "metadata": {},
   "outputs": [
    {
     "name": "stdout",
     "output_type": "stream",
     "text": [
      "Database 'food_wastage' is ready to use!\n"
     ]
    }
   ],
   "source": [
    "import mysql.connector\n",
    "\n",
    "# Replace with your MySQL username and password\n",
    "config = {\n",
    "    'host': 'localhost',\n",
    "    'user': 'root',\n",
    "    'password': 'Srisql@8'\n",
    "}\n",
    "\n",
    "# Connect to MySQL server\n",
    "conn = mysql.connector.connect(**config)\n",
    "cursor = conn.cursor()\n",
    "\n",
    "# Create database if it doesn't exist\n",
    "cursor.execute(\"CREATE DATABASE IF NOT EXISTS food_wastage\")\n",
    "\n",
    "# Use the created database\n",
    "cursor.execute(\"USE food_wastage\")\n",
    "\n",
    "print(\"Database 'food_wastage' is ready to use!\")\n"
   ]
  },
  {
   "cell_type": "code",
   "execution_count": 65,
   "id": "a4781756",
   "metadata": {},
   "outputs": [
    {
     "name": "stdout",
     "output_type": "stream",
     "text": [
      "Tables created successfully!\n"
     ]
    }
   ],
   "source": [
    "# Drop tables in correct order to avoid foreign key issues\n",
    "cursor.execute(\"DROP TABLE IF EXISTS Claims\")\n",
    "cursor.execute(\"DROP TABLE IF EXISTS Food_Listings\")\n",
    "cursor.execute(\"DROP TABLE IF EXISTS Receivers\")\n",
    "cursor.execute(\"DROP TABLE IF EXISTS Providers\")\n",
    "conn.commit()\n",
    "\n",
    "# Create tables\n",
    "cursor.execute(\"\"\"\n",
    "CREATE TABLE Providers (\n",
    "    Provider_ID INT PRIMARY KEY,\n",
    "    Name VARCHAR(255),\n",
    "    Type VARCHAR(100),\n",
    "    Address VARCHAR(255),\n",
    "    City VARCHAR(100),\n",
    "    Contact VARCHAR(100)\n",
    ")\n",
    "\"\"\")\n",
    "\n",
    "cursor.execute(\"\"\"\n",
    "CREATE TABLE Receivers (\n",
    "    Receiver_ID INT PRIMARY KEY,\n",
    "    Name VARCHAR(255),\n",
    "    Type VARCHAR(100),\n",
    "    City VARCHAR(100),\n",
    "    Contact VARCHAR(100)\n",
    ")\n",
    "\"\"\")\n",
    "\n",
    "cursor.execute(\"\"\"\n",
    "CREATE TABLE Food_Listings (\n",
    "    Food_ID INT PRIMARY KEY,\n",
    "    Food_Name VARCHAR(255),\n",
    "    Quantity INT,\n",
    "    Expiry_Date DATE,\n",
    "    Provider_ID INT,\n",
    "    Provider_Type VARCHAR(100),\n",
    "    Location VARCHAR(100),\n",
    "    Food_Type VARCHAR(100),\n",
    "    Meal_Type VARCHAR(100),\n",
    "    FOREIGN KEY (Provider_ID) REFERENCES Providers(Provider_ID)\n",
    ")\n",
    "\"\"\")\n",
    "\n",
    "cursor.execute(\"\"\"\n",
    "CREATE TABLE Claims (\n",
    "    Claim_ID INT PRIMARY KEY,\n",
    "    Food_ID INT,\n",
    "    Receiver_ID INT,\n",
    "    Status VARCHAR(50),\n",
    "    Timestamp DATETIME,\n",
    "    FOREIGN KEY (Food_ID) REFERENCES Food_Listings(Food_ID),\n",
    "    FOREIGN KEY (Receiver_ID) REFERENCES Receivers(Receiver_ID)\n",
    ")\n",
    "\"\"\")\n",
    "\n",
    "conn.commit()\n",
    "\n",
    "print(\"Tables created successfully!\")\n"
   ]
  },
  {
   "cell_type": "code",
   "execution_count": 66,
   "id": "1b66fe9c",
   "metadata": {},
   "outputs": [
    {
     "name": "stdout",
     "output_type": "stream",
     "text": [
      "CSV files loaded and date formatted successfully!\n",
      "   Provider_ID                         Name           Type  \\\n",
      "0            1             Gonzales-Cochran    Supermarket   \n",
      "1            2  Nielsen, Johnson and Fuller  Grocery Store   \n",
      "2            3                 Miller-Black    Supermarket   \n",
      "3            4   Clark, Prince and Williams  Grocery Store   \n",
      "4            5               Coleman-Farley  Grocery Store   \n",
      "\n",
      "                                             Address            City  \\\n",
      "0  74347 Christopher Extensions\\nAndreamouth, OK ...     New Jessica   \n",
      "1           91228 Hanson Stream\\nWelchtown, OR 27136     East Sheena   \n",
      "2  561 Martinez Point Suite 507\\nGuzmanchester, W...  Lake Jesusview   \n",
      "3     467 Bell Trail Suite 409\\nPort Jesus, IA 61188     Mendezmouth   \n",
      "4  078 Matthew Creek Apt. 319\\nSaraborough, MA 53978   Valentineside   \n",
      "\n",
      "                Contact  \n",
      "0       +1-600-220-0480  \n",
      "1  +1-925-283-8901x6297  \n",
      "2      001-517-295-2206  \n",
      "3      556.944.8935x401  \n",
      "4          193.714.6577  \n"
     ]
    }
   ],
   "source": [
    "import pandas as pd\n",
    "\n",
    "# Load CSV files - use raw string (r'path') to avoid path issues\n",
    "providers_df = pd.read_csv(r'C:\\Labmentix\\Food waste Management\\providers_data.csv')\n",
    "receivers_df = pd.read_csv(r'C:\\Labmentix\\Food waste Management\\receivers_data.csv')\n",
    "food_listings_df = pd.read_csv(r'C:\\Labmentix\\Food waste Management\\food_listings_data.csv')\n",
    "claims_df = pd.read_csv(r'C:\\Labmentix\\Food waste Management\\claims_data.csv')\n",
    "\n",
    "# Fix date format for Expiry_Date in food_listings_df\n",
    "food_listings_df['Expiry_Date'] = pd.to_datetime(food_listings_df['Expiry_Date'], format='%m/%d/%Y').dt.strftime('%Y-%m-%d')\n",
    "\n",
    "print(\"CSV files loaded and date formatted successfully!\")\n",
    "\n",
    "# Optional: Check first few rows of any dataframe to verify\n",
    "print(providers_df.head())\n"
   ]
  },
  {
   "cell_type": "code",
   "execution_count": 67,
   "id": "c3418706",
   "metadata": {},
   "outputs": [
    {
     "name": "stdout",
     "output_type": "stream",
     "text": [
      "Inserted 1000 rows into Providers\n",
      "Inserted 1000 rows into Receivers\n",
      "Inserted 1000 rows into Food_Listings\n",
      "Inserted 1000 rows into Claims\n"
     ]
    }
   ],
   "source": [
    "def insert_data(df, table_name):\n",
    "    cols = \",\".join([str(i) for i in df.columns.tolist()])\n",
    "    placeholders = \",\".join([\"%s\"] * len(df.columns))\n",
    "    sql = f\"INSERT INTO {table_name} ({cols}) VALUES ({placeholders})\"\n",
    "    \n",
    "    data = [tuple(x) for x in df.to_numpy()]\n",
    "    cursor.executemany(sql, data)\n",
    "    conn.commit()\n",
    "    print(f\"Inserted {cursor.rowcount} rows into {table_name}\")\n",
    "\n",
    "# Flexible parsing without fixed format\n",
    "food_listings_df['Expiry_Date'] = pd.to_datetime(food_listings_df['Expiry_Date'], errors='coerce').dt.strftime('%Y-%m-%d')\n",
    "claims_df['Timestamp'] = pd.to_datetime(claims_df['Timestamp'], errors='coerce').dt.strftime('%Y-%m-%d %H:%M:%S')\n",
    "\n",
    "# Clear tables first\n",
    "cursor.execute(\"DELETE FROM Claims\")\n",
    "cursor.execute(\"DELETE FROM Food_Listings\")\n",
    "cursor.execute(\"DELETE FROM Receivers\")\n",
    "cursor.execute(\"DELETE FROM Providers\")\n",
    "conn.commit()\n",
    "\n",
    "# Then insert fresh data\n",
    "insert_data(providers_df, 'Providers')\n",
    "insert_data(receivers_df, 'Receivers')\n",
    "insert_data(food_listings_df, 'Food_Listings')\n",
    "insert_data(claims_df, 'Claims')"
   ]
  },
  {
   "cell_type": "code",
   "execution_count": 20,
   "id": "112ae252",
   "metadata": {},
   "outputs": [
    {
     "name": "stdout",
     "output_type": "stream",
     "text": [
      "^C\n"
     ]
    }
   ],
   "source": [
    "!streamlit run food.py"
   ]
  }
 ],
 "metadata": {
  "kernelspec": {
   "display_name": "Python 3",
   "language": "python",
   "name": "python3"
  },
  "language_info": {
   "codemirror_mode": {
    "name": "ipython",
    "version": 3
   },
   "file_extension": ".py",
   "mimetype": "text/x-python",
   "name": "python",
   "nbconvert_exporter": "python",
   "pygments_lexer": "ipython3",
   "version": "3.8.10"
  }
 },
 "nbformat": 4,
 "nbformat_minor": 5
}
